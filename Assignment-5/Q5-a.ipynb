{
 "cells": [
  {
   "cell_type": "code",
   "execution_count": 44,
   "id": "773aa527-a976-40f0-ac71-f72675165709",
   "metadata": {},
   "outputs": [],
   "source": [
    "from pprint import pprint as pp\n",
    "import pandas as pd\n",
    "from mlxtend.frequent_patterns import apriori, association_rules"
   ]
  },
  {
   "cell_type": "code",
   "execution_count": 45,
   "id": "5730c26f-4cef-43a5-92a5-e8028b102f5c",
   "metadata": {},
   "outputs": [],
   "source": [
    "def get_item_set(tx_dict: dict) -> list:\n",
    "    res = set()\n",
    "    for v in tx_dict.values():\n",
    "        res.update(v)\n",
    "    return sorted(res)"
   ]
  },
  {
   "cell_type": "code",
   "execution_count": 46,
   "id": "49da5c4f-f564-4583-b62c-c23cfb72ccb7",
   "metadata": {},
   "outputs": [],
   "source": [
    "def get_empty_labels_dict() -> dict:\n",
    "    return {item: 0 for item in ITEM_SET}"
   ]
  },
  {
   "cell_type": "code",
   "execution_count": 47,
   "id": "183a7a88-49ec-4570-9835-0ee1890f13cb",
   "metadata": {},
   "outputs": [],
   "source": [
    "def tx_dict_to_ohe_df(tx_dict: dict) -> pd.DataFrame:\n",
    "    encoded_val_ls = list()\n",
    "    for k, v in tx_dict.items():\n",
    "        labels = get_empty_labels_dict()\n",
    "        for i in v:\n",
    "            if i in labels.keys():\n",
    "                labels[i] += 1\n",
    "            else:\n",
    "                labels[i] = 1\n",
    "        encoded_val_ls.append(labels)\n",
    "\n",
    "    return pd.DataFrame(encoded_val_ls)"
   ]
  },
  {
   "cell_type": "code",
   "execution_count": 48,
   "id": "9b6535f7-0659-4a82-ba6e-5143ca0ea1b6",
   "metadata": {},
   "outputs": [],
   "source": [
    "def print_freq_items(freq_items: pd.DataFrame):\n",
    "    for i, row in freq_items.iterrows():\n",
    "        sup = row['support']\n",
    "        i_set = set(row['itemsets'])\n",
    "\n",
    "        i_set_str = str(i_set).replace(\"'\", '')\n",
    "        print(f\"{i_set_str} : {sup}\")"
   ]
  },
  {
   "cell_type": "code",
   "execution_count": 56,
   "id": "766bb0a9-ddb6-47e6-b0fb-724c769e77c3",
   "metadata": {},
   "outputs": [],
   "source": [
    "def sort_set(s) -> set:\n",
    "    return sorted([s])[0]\n",
    "\n",
    "def get_item_set_str(s) -> str:\n",
    "    t = str(sorted(s)).replace(\"'\", '').replace('[', '{').replace(']', '}')\n",
    "    return t"
   ]
  },
  {
   "cell_type": "code",
   "execution_count": 50,
   "id": "31af4b05-ea2c-491c-83e3-17635610e8a7",
   "metadata": {},
   "outputs": [],
   "source": [
    "tx_dict = {\n",
    "    '1': {'a', 'b', 'd', 'e'},\n",
    "    '2': {'b', 'c', 'd'},\n",
    "    '3': {'a', 'b', 'd', 'e'},\n",
    "    '4': {'a', 'c', 'd', 'e'},\n",
    "    '5': {'b', 'c', 'd', 'e'},\n",
    "    '6': {'b', 'd', 'e'},\n",
    "    '7': {'c', 'd'},\n",
    "    '8': {'a', 'b', 'c'},\n",
    "    '9': {'a', 'd', 'e'},\n",
    "    '10': {'b', 'd'},\n",
    "}"
   ]
  },
  {
   "cell_type": "code",
   "execution_count": 51,
   "id": "8bab654d-6e80-49a1-9607-ca7200b173a8",
   "metadata": {},
   "outputs": [
    {
     "name": "stdout",
     "output_type": "stream",
     "text": [
      "Processing 8 combinations | Sampling itemset size 43\n",
      "{a} : 0.5\n",
      "{b} : 0.7\n",
      "{c} : 0.5\n",
      "{d} : 0.9\n",
      "{e} : 0.6\n",
      "{a, b} : 0.3\n",
      "{a, c} : 0.2\n",
      "{a, d} : 0.4\n",
      "{a, e} : 0.4\n",
      "{c, b} : 0.3\n",
      "{b, d} : 0.6\n",
      "{b, e} : 0.4\n",
      "{c, d} : 0.4\n",
      "{c, e} : 0.2\n",
      "{e, d} : 0.6\n",
      "{a, b, d} : 0.2\n",
      "{a, b, e} : 0.2\n",
      "{e, a, d} : 0.4\n",
      "{c, b, d} : 0.2\n",
      "{e, b, d} : 0.4\n",
      "{e, c, d} : 0.2\n",
      "{e, a, b, d} : 0.2\n"
     ]
    }
   ],
   "source": [
    "ITEM_SET = get_item_set(tx_dict)\n",
    "ohe_df = tx_dict_to_ohe_df(tx_dict)\n",
    "freq_items = apriori(ohe_df, min_support=0.2, use_colnames=True, verbose=1)\n",
    "print_freq_items(freq_items)"
   ]
  },
  {
   "cell_type": "code",
   "execution_count": 52,
   "id": "a3e058a1-03fe-4ab1-991e-e40832f503fe",
   "metadata": {},
   "outputs": [],
   "source": [
    "rules = association_rules(freq_items, metric=\"confidence\", min_threshold=0.6)"
   ]
  },
  {
   "cell_type": "code",
   "execution_count": 53,
   "id": "0cae1ffd-357e-4413-96b4-8a2fba644b8e",
   "metadata": {},
   "outputs": [
    {
     "data": {
      "text/html": [
       "<div>\n",
       "<style scoped>\n",
       "    .dataframe tbody tr th:only-of-type {\n",
       "        vertical-align: middle;\n",
       "    }\n",
       "\n",
       "    .dataframe tbody tr th {\n",
       "        vertical-align: top;\n",
       "    }\n",
       "\n",
       "    .dataframe thead th {\n",
       "        text-align: right;\n",
       "    }\n",
       "</style>\n",
       "<table border=\"1\" class=\"dataframe\">\n",
       "  <thead>\n",
       "    <tr style=\"text-align: right;\">\n",
       "      <th></th>\n",
       "      <th>antecedents</th>\n",
       "      <th>consequents</th>\n",
       "      <th>antecedent support</th>\n",
       "      <th>consequent support</th>\n",
       "      <th>support</th>\n",
       "      <th>confidence</th>\n",
       "      <th>lift</th>\n",
       "      <th>leverage</th>\n",
       "      <th>conviction</th>\n",
       "    </tr>\n",
       "  </thead>\n",
       "  <tbody>\n",
       "    <tr>\n",
       "      <th>0</th>\n",
       "      <td>(a)</td>\n",
       "      <td>(b)</td>\n",
       "      <td>0.5</td>\n",
       "      <td>0.7</td>\n",
       "      <td>0.3</td>\n",
       "      <td>0.600000</td>\n",
       "      <td>0.857143</td>\n",
       "      <td>-0.05</td>\n",
       "      <td>0.75</td>\n",
       "    </tr>\n",
       "    <tr>\n",
       "      <th>1</th>\n",
       "      <td>(a)</td>\n",
       "      <td>(d)</td>\n",
       "      <td>0.5</td>\n",
       "      <td>0.9</td>\n",
       "      <td>0.4</td>\n",
       "      <td>0.800000</td>\n",
       "      <td>0.888889</td>\n",
       "      <td>-0.05</td>\n",
       "      <td>0.50</td>\n",
       "    </tr>\n",
       "    <tr>\n",
       "      <th>2</th>\n",
       "      <td>(a)</td>\n",
       "      <td>(e)</td>\n",
       "      <td>0.5</td>\n",
       "      <td>0.6</td>\n",
       "      <td>0.4</td>\n",
       "      <td>0.800000</td>\n",
       "      <td>1.333333</td>\n",
       "      <td>0.10</td>\n",
       "      <td>2.00</td>\n",
       "    </tr>\n",
       "    <tr>\n",
       "      <th>3</th>\n",
       "      <td>(e)</td>\n",
       "      <td>(a)</td>\n",
       "      <td>0.6</td>\n",
       "      <td>0.5</td>\n",
       "      <td>0.4</td>\n",
       "      <td>0.666667</td>\n",
       "      <td>1.333333</td>\n",
       "      <td>0.10</td>\n",
       "      <td>1.50</td>\n",
       "    </tr>\n",
       "    <tr>\n",
       "      <th>4</th>\n",
       "      <td>(c)</td>\n",
       "      <td>(b)</td>\n",
       "      <td>0.5</td>\n",
       "      <td>0.7</td>\n",
       "      <td>0.3</td>\n",
       "      <td>0.600000</td>\n",
       "      <td>0.857143</td>\n",
       "      <td>-0.05</td>\n",
       "      <td>0.75</td>\n",
       "    </tr>\n",
       "  </tbody>\n",
       "</table>\n",
       "</div>"
      ],
      "text/plain": [
       "  antecedents consequents  antecedent support  consequent support  support  \\\n",
       "0         (a)         (b)                 0.5                 0.7      0.3   \n",
       "1         (a)         (d)                 0.5                 0.9      0.4   \n",
       "2         (a)         (e)                 0.5                 0.6      0.4   \n",
       "3         (e)         (a)                 0.6                 0.5      0.4   \n",
       "4         (c)         (b)                 0.5                 0.7      0.3   \n",
       "\n",
       "   confidence      lift  leverage  conviction  \n",
       "0    0.600000  0.857143     -0.05        0.75  \n",
       "1    0.800000  0.888889     -0.05        0.50  \n",
       "2    0.800000  1.333333      0.10        2.00  \n",
       "3    0.666667  1.333333      0.10        1.50  \n",
       "4    0.600000  0.857143     -0.05        0.75  "
      ]
     },
     "execution_count": 53,
     "metadata": {},
     "output_type": "execute_result"
    }
   ],
   "source": [
    "rules.head()"
   ]
  },
  {
   "cell_type": "code",
   "execution_count": 59,
   "id": "9f860c64-f61a-49b0-8d38-db0cb8b7479b",
   "metadata": {},
   "outputs": [
    {
     "name": "stdout",
     "output_type": "stream",
     "text": [
      "{a, b, d} : min-support = 0.2 min-confidence = 0.67\n",
      "{a, b, e} : min-support = 0.2 min-confidence = 0.67\n",
      "{a, d, e} : min-support = 0.4 min-confidence = 1.0\n",
      "{a, d, e} : min-support = 0.4 min-confidence = 0.67\n",
      "{a, d, e} : min-support = 0.4 min-confidence = 1.0\n",
      "{a, d, e} : min-support = 0.4 min-confidence = 0.67\n",
      "{a, d, e} : min-support = 0.4 min-confidence = 0.8\n",
      "{b, c, d} : min-support = 0.2 min-confidence = 0.67\n",
      "{b, d, e} : min-support = 0.4 min-confidence = 1.0\n",
      "{b, d, e} : min-support = 0.4 min-confidence = 0.67\n",
      "{b, d, e} : min-support = 0.4 min-confidence = 0.67\n",
      "{b, d, e} : min-support = 0.4 min-confidence = 0.67\n",
      "{c, d, e} : min-support = 0.2 min-confidence = 1.0\n"
     ]
    }
   ],
   "source": [
    "for i, row in rules.iterrows():\n",
    "    acd = row['antecedents']\n",
    "    csq = row['consequents']\n",
    "    if len(acd) + len(csq) == 3:\n",
    "        sup = round(row['support'], 2)\n",
    "        conf = round(row['confidence'], 2)\n",
    "        item_set = set()\n",
    "        item_set.update(acd)\n",
    "        item_set.update(csq)\n",
    "        item_set_str = get_item_set_str(item_set)    \n",
    "        \n",
    "        print(f\"{item_set_str} : min-support = {sup} min-confidence = {conf}\")\n",
    "    "
   ]
  },
  {
   "cell_type": "code",
   "execution_count": 60,
   "id": "e732efba-38f7-4f00-9bdc-04dff91d7de5",
   "metadata": {},
   "outputs": [],
   "source": [
    "rules_2 = association_rules(freq_items, metric=\"confidence\", min_threshold=0)"
   ]
  },
  {
   "cell_type": "code",
   "execution_count": 61,
   "id": "8338456b-6fb7-49d7-99f2-f0ac673a37d4",
   "metadata": {},
   "outputs": [
    {
     "name": "stdout",
     "output_type": "stream",
     "text": [
      "{a, b, d} : min-support = 0.2 min-confidence = 0.67\n",
      "{a, b, d} : min-support = 0.2 min-confidence = 0.5\n",
      "{a, b, d} : min-support = 0.2 min-confidence = 0.33\n",
      "{a, b, d} : min-support = 0.2 min-confidence = 0.4\n",
      "{a, b, d} : min-support = 0.2 min-confidence = 0.29\n",
      "{a, b, d} : min-support = 0.2 min-confidence = 0.22\n",
      "{a, b, e} : min-support = 0.2 min-confidence = 0.67\n",
      "{a, b, e} : min-support = 0.2 min-confidence = 0.5\n",
      "{a, b, e} : min-support = 0.2 min-confidence = 0.5\n",
      "{a, b, e} : min-support = 0.2 min-confidence = 0.4\n",
      "{a, b, e} : min-support = 0.2 min-confidence = 0.29\n",
      "{a, b, e} : min-support = 0.2 min-confidence = 0.33\n",
      "{a, d, e} : min-support = 0.4 min-confidence = 1.0\n",
      "{a, d, e} : min-support = 0.4 min-confidence = 0.67\n",
      "{a, d, e} : min-support = 0.4 min-confidence = 1.0\n",
      "{a, d, e} : min-support = 0.4 min-confidence = 0.67\n",
      "{a, d, e} : min-support = 0.4 min-confidence = 0.8\n",
      "{a, d, e} : min-support = 0.4 min-confidence = 0.44\n",
      "{b, c, d} : min-support = 0.2 min-confidence = 0.67\n",
      "{b, c, d} : min-support = 0.2 min-confidence = 0.5\n",
      "{b, c, d} : min-support = 0.2 min-confidence = 0.33\n",
      "{b, c, d} : min-support = 0.2 min-confidence = 0.4\n",
      "{b, c, d} : min-support = 0.2 min-confidence = 0.29\n",
      "{b, c, d} : min-support = 0.2 min-confidence = 0.22\n",
      "{b, d, e} : min-support = 0.4 min-confidence = 1.0\n",
      "{b, d, e} : min-support = 0.4 min-confidence = 0.67\n",
      "{b, d, e} : min-support = 0.4 min-confidence = 0.67\n",
      "{b, d, e} : min-support = 0.4 min-confidence = 0.67\n",
      "{b, d, e} : min-support = 0.4 min-confidence = 0.57\n",
      "{b, d, e} : min-support = 0.4 min-confidence = 0.44\n",
      "{c, d, e} : min-support = 0.2 min-confidence = 1.0\n",
      "{c, d, e} : min-support = 0.2 min-confidence = 0.33\n",
      "{c, d, e} : min-support = 0.2 min-confidence = 0.5\n",
      "{c, d, e} : min-support = 0.2 min-confidence = 0.33\n",
      "{c, d, e} : min-support = 0.2 min-confidence = 0.4\n",
      "{c, d, e} : min-support = 0.2 min-confidence = 0.22\n"
     ]
    }
   ],
   "source": [
    "for i, row in rules_2.iterrows():\n",
    "    acd = row['antecedents']\n",
    "    csq = row['consequents']\n",
    "    if len(acd) + len(csq) == 3:\n",
    "        sup = round(row['support'], 2)\n",
    "        conf = round(row['confidence'], 2)\n",
    "        item_set = set()\n",
    "        item_set.update(acd)\n",
    "        item_set.update(csq)\n",
    "        item_set_str = get_item_set_str(item_set)    \n",
    "        \n",
    "        print(f\"{item_set_str} : min-support = {sup} min-confidence = {conf}\")"
   ]
  },
  {
   "cell_type": "code",
   "execution_count": null,
   "id": "c3a71c73-1396-49d6-b29f-dfb21e926bbe",
   "metadata": {},
   "outputs": [],
   "source": []
  }
 ],
 "metadata": {
  "kernelspec": {
   "display_name": "CS 4210",
   "language": "python",
   "name": "cs4210"
  },
  "language_info": {
   "codemirror_mode": {
    "name": "ipython",
    "version": 3
   },
   "file_extension": ".py",
   "mimetype": "text/x-python",
   "name": "python",
   "nbconvert_exporter": "python",
   "pygments_lexer": "ipython3",
   "version": "3.7.11"
  }
 },
 "nbformat": 4,
 "nbformat_minor": 5
}
