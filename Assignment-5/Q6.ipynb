{
 "cells": [
  {
   "cell_type": "code",
   "execution_count": 1,
   "id": "ccd70e3e-ca4e-41aa-b2be-80dbd6510697",
   "metadata": {},
   "outputs": [],
   "source": [
    "import pandas as pd\n",
    "import numpy as np\n",
    "import matplotlib.pyplot as plt\n",
    "from mlxtend.frequent_patterns import apriori, association_rules"
   ]
  },
  {
   "cell_type": "code",
   "execution_count": 2,
   "id": "c89d7443-93cf-4d34-a074-31c80f794b69",
   "metadata": {},
   "outputs": [],
   "source": [
    "# read the dataset using pandas\n",
    "df = pd.read_csv('retail_dataset.csv', sep=',')"
   ]
  },
  {
   "cell_type": "code",
   "execution_count": 3,
   "id": "4246ed59-641c-47a9-bc25-d444a9790923",
   "metadata": {},
   "outputs": [],
   "source": [
    "item_set = set()\n",
    "for i in range(0, len(df.columns)):\n",
    "    items = (df[str(i)].unique())\n",
    "    item_set = item_set.union(set(items))\n",
    "\n",
    "# remove nan (empty) values by using:\n",
    "item_set.remove(np.nan)"
   ]
  },
  {
   "cell_type": "code",
   "execution_count": 4,
   "id": "8b1f8655-141c-49e5-8c7d-97c4074789e7",
   "metadata": {},
   "outputs": [
    {
     "data": {
      "text/plain": [
       "{'Bagel',\n",
       " 'Bread',\n",
       " 'Cheese',\n",
       " 'Diaper',\n",
       " 'Eggs',\n",
       " 'Meat',\n",
       " 'Milk',\n",
       " 'Pencil',\n",
       " 'Wine'}"
      ]
     },
     "execution_count": 4,
     "metadata": {},
     "output_type": "execute_result"
    }
   ],
   "source": [
    "item_set"
   ]
  },
  {
   "cell_type": "code",
   "execution_count": null,
   "id": "8b1b2a4f-223a-455d-8fb3-66113fe04945",
   "metadata": {},
   "outputs": [],
   "source": []
  }
 ],
 "metadata": {
  "kernelspec": {
   "display_name": "CS 4210",
   "language": "python",
   "name": "cs4210"
  },
  "language_info": {
   "codemirror_mode": {
    "name": "ipython",
    "version": 3
   },
   "file_extension": ".py",
   "mimetype": "text/x-python",
   "name": "python",
   "nbconvert_exporter": "python",
   "pygments_lexer": "ipython3",
   "version": "3.7.11"
  }
 },
 "nbformat": 4,
 "nbformat_minor": 5
}
