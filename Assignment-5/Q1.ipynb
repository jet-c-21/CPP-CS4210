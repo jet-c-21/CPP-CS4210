{
 "cells": [
  {
   "cell_type": "code",
   "execution_count": 16,
   "id": "222db6a7-9a7f-429d-9dba-e89b48820ddb",
   "metadata": {},
   "outputs": [],
   "source": [
    "import math\n",
    "import pandas as pd"
   ]
  },
  {
   "cell_type": "code",
   "execution_count": 17,
   "id": "b3de6a29-ba74-40fc-9b28-49ac2d1ab564",
   "metadata": {},
   "outputs": [],
   "source": [
    "class Point:\n",
    "    def __init__(self, name: str, x: int, y: int):\n",
    "        self.name = name\n",
    "        self.x = x\n",
    "        self.y = y\n",
    "\n",
    "    def __repr__(self):\n",
    "        return f\"{self.name}:({self.x}, {self.y})\"\n",
    "\n",
    "def get_dist(p1: Point, p2: Point, rounded=True) -> float:\n",
    "    d = math.sqrt((p1.x - p2.x) ** 2 + (p1.y - p2.y) ** 2)\n",
    "    if rounded:\n",
    "        d = round(d, 3)\n",
    "    return d"
   ]
  },
  {
   "cell_type": "code",
   "execution_count": 18,
   "id": "acfe0a99-0d80-4f2f-a7de-4a2a98a4aa59",
   "metadata": {},
   "outputs": [],
   "source": [
    "# Args\n",
    "point_ls = [\n",
    "    Point('A1', 2, 10),\n",
    "    Point('A2', 2, 5),\n",
    "    Point('A3', 8, 4),\n",
    "    Point('A4', 5, 8),\n",
    "    Point('A5', 7, 5),\n",
    "    Point('A6', 6, 4),\n",
    "    Point('A7', 1, 2),\n",
    "    Point('A8', 4, 9),\n",
    "]\n",
    "\n",
    "centroid_ls = [\n",
    "    Point('C1', 2, 10),  # A1\n",
    "    Point('C2', 5, 8),  # A4\n",
    "    Point('C3', 1, 2),  # A7\n",
    "]"
   ]
  },
  {
   "cell_type": "code",
   "execution_count": 19,
   "id": "d8e585a6-c581-4314-bb75-aad147735463",
   "metadata": {},
   "outputs": [],
   "source": [
    "K = len(centroid_ls)"
   ]
  },
  {
   "cell_type": "code",
   "execution_count": 20,
   "id": "6388aca8-b82e-4add-94ba-e4ac15c0bd2c",
   "metadata": {},
   "outputs": [],
   "source": [
    "def get_nearest_centroid(p: Point, c_ls: list) -> (Point, list):\n",
    "    nc = None\n",
    "    nd = math.inf\n",
    "    d_ls = list()\n",
    "    for c in c_ls:\n",
    "        d = get_dist(p, c)\n",
    "        d_ls.append(d)\n",
    "        if d < nd:\n",
    "            nd = d\n",
    "            nc = c\n",
    "\n",
    "    return nc, d_ls\n",
    "\n",
    "\n",
    "def get_iteration_record(pt_ls: list, c_ls: list) -> list:\n",
    "    result = list()\n",
    "    for p in pt_ls:\n",
    "        nearest_c, d_ls = get_nearest_centroid(p, c_ls)\n",
    "        d_ls.append(nearest_c.name)\n",
    "        r = (p.name, d_ls)\n",
    "        result.append(r)\n",
    "    return result\n",
    "\n",
    "\n",
    "def get_iteration_df(pt_ls: list, c_ls: list) -> pd.DataFrame:\n",
    "    cols = [f\"{c.name} dist\" for c in c_ls]\n",
    "    cols.append('Cluster Assigned')\n",
    "    df = pd.DataFrame(columns=cols)\n",
    "    iter_record = get_iteration_record(pt_ls, c_ls)\n",
    "    for r in iter_record:\n",
    "        r_idx_name = r[0]\n",
    "        df.loc[r_idx_name] = r[1]\n",
    "\n",
    "    return df\n",
    "\n",
    "\n",
    "def print_iteration_table(iter_name, iter_df: pd.DataFrame):\n",
    "    print(f\"{iter_name} iteration : \")\n",
    "    print(iter_df.T)"
   ]
  },
  {
   "cell_type": "code",
   "execution_count": 21,
   "id": "435c88a8-4d83-4b24-a8df-719b91ff4fd8",
   "metadata": {},
   "outputs": [],
   "source": [
    "def k_means(pt_ls: list, c_ls: list):\n",
    "    iter_df_1 = get_iteration_df(pt_ls, c_ls)\n",
    "    print_iteration_table('1st', iter_df_1)"
   ]
  },
  {
   "cell_type": "code",
   "execution_count": 22,
   "id": "3921ccd0-eb50-42b3-9dc0-f947d2ba71ce",
   "metadata": {},
   "outputs": [
    {
     "name": "stdout",
     "output_type": "stream",
     "text": [
      "1st iteration : \n",
      "                     A1     A2     A3     A4     A5     A6     A7     A8\n",
      "C1 dist             0.0    5.0  8.485  3.606  7.071  7.211  8.062  2.236\n",
      "C2 dist           3.606  4.243    5.0    0.0  3.606  4.123  7.211  1.414\n",
      "C3 dist           8.062  3.162   7.28  7.211  6.708  5.385    0.0  7.616\n",
      "Cluster Assigned     C1     C3     C2     C2     C2     C2     C3     C2\n"
     ]
    }
   ],
   "source": [
    "k_means(point_ls, centroid_ls)"
   ]
  },
  {
   "cell_type": "code",
   "execution_count": 26,
   "id": "05440058-dd6d-417a-ac16-9a16f7400aab",
   "metadata": {},
   "outputs": [
    {
     "data": {
      "text/html": [
       "<div>\n",
       "<style scoped>\n",
       "    .dataframe tbody tr th:only-of-type {\n",
       "        vertical-align: middle;\n",
       "    }\n",
       "\n",
       "    .dataframe tbody tr th {\n",
       "        vertical-align: top;\n",
       "    }\n",
       "\n",
       "    .dataframe thead th {\n",
       "        text-align: right;\n",
       "    }\n",
       "</style>\n",
       "<table border=\"1\" class=\"dataframe\">\n",
       "  <thead>\n",
       "    <tr style=\"text-align: right;\">\n",
       "      <th></th>\n",
       "      <th>A1</th>\n",
       "      <th>A2</th>\n",
       "      <th>A3</th>\n",
       "      <th>A4</th>\n",
       "      <th>A5</th>\n",
       "      <th>A6</th>\n",
       "      <th>A7</th>\n",
       "      <th>A8</th>\n",
       "    </tr>\n",
       "  </thead>\n",
       "  <tbody>\n",
       "    <tr>\n",
       "      <th>C1 dist</th>\n",
       "      <td>0.0</td>\n",
       "      <td>5.0</td>\n",
       "      <td>8.485</td>\n",
       "      <td>3.606</td>\n",
       "      <td>7.071</td>\n",
       "      <td>7.211</td>\n",
       "      <td>8.062</td>\n",
       "      <td>2.236</td>\n",
       "    </tr>\n",
       "    <tr>\n",
       "      <th>C2 dist</th>\n",
       "      <td>3.606</td>\n",
       "      <td>4.243</td>\n",
       "      <td>5.0</td>\n",
       "      <td>0.0</td>\n",
       "      <td>3.606</td>\n",
       "      <td>4.123</td>\n",
       "      <td>7.211</td>\n",
       "      <td>1.414</td>\n",
       "    </tr>\n",
       "    <tr>\n",
       "      <th>C3 dist</th>\n",
       "      <td>8.062</td>\n",
       "      <td>3.162</td>\n",
       "      <td>7.28</td>\n",
       "      <td>7.211</td>\n",
       "      <td>6.708</td>\n",
       "      <td>5.385</td>\n",
       "      <td>0.0</td>\n",
       "      <td>7.616</td>\n",
       "    </tr>\n",
       "    <tr>\n",
       "      <th>Cluster Assigned</th>\n",
       "      <td>C1</td>\n",
       "      <td>C3</td>\n",
       "      <td>C2</td>\n",
       "      <td>C2</td>\n",
       "      <td>C2</td>\n",
       "      <td>C2</td>\n",
       "      <td>C3</td>\n",
       "      <td>C2</td>\n",
       "    </tr>\n",
       "  </tbody>\n",
       "</table>\n",
       "</div>"
      ],
      "text/plain": [
       "                     A1     A2     A3     A4     A5     A6     A7     A8\n",
       "C1 dist             0.0    5.0  8.485  3.606  7.071  7.211  8.062  2.236\n",
       "C2 dist           3.606  4.243    5.0    0.0  3.606  4.123  7.211  1.414\n",
       "C3 dist           8.062  3.162   7.28  7.211  6.708  5.385    0.0  7.616\n",
       "Cluster Assigned     C1     C3     C2     C2     C2     C2     C3     C2"
      ]
     },
     "execution_count": 26,
     "metadata": {},
     "output_type": "execute_result"
    }
   ],
   "source": [
    "iter_df_1 = get_iteration_df(point_ls, centroid_ls)\n",
    "iter_df_1.T"
   ]
  },
  {
   "cell_type": "code",
   "execution_count": null,
   "id": "b0908469-6b11-4ab9-8445-0e2ccdd0584a",
   "metadata": {},
   "outputs": [],
   "source": []
  },
  {
   "cell_type": "code",
   "execution_count": null,
   "id": "69f1df28-3bad-48e6-b383-4311c39d461a",
   "metadata": {},
   "outputs": [],
   "source": []
  }
 ],
 "metadata": {
  "kernelspec": {
   "display_name": "CS 4210",
   "language": "python",
   "name": "cs4210"
  },
  "language_info": {
   "codemirror_mode": {
    "name": "ipython",
    "version": 3
   },
   "file_extension": ".py",
   "mimetype": "text/x-python",
   "name": "python",
   "nbconvert_exporter": "python",
   "pygments_lexer": "ipython3",
   "version": "3.7.11"
  }
 },
 "nbformat": 4,
 "nbformat_minor": 5
}
