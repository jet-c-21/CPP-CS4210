{
 "cells": [
  {
   "cell_type": "code",
   "execution_count": 1,
   "id": "ae92bc91-c6b9-4422-a2b2-8ab161f87d0e",
   "metadata": {},
   "outputs": [],
   "source": [
    "from association_rule_mining import AssociationRuleMining"
   ]
  },
  {
   "cell_type": "code",
   "execution_count": 2,
   "id": "1c911dba-f485-4fc4-8528-629dc070337f",
   "metadata": {},
   "outputs": [],
   "source": [
    "tx_dict = {\n",
    "    '1' : ['b', 'd'],\n",
    "    '2' : ['b', 'c', 'd'],\n",
    "    '3' : ['a', 'b', 'd'],\n",
    "    '4' : ['a', 'b'],\n",
    "    '5' : ['a', 'b', 'c', 'd'],\n",
    "}"
   ]
  },
  {
   "cell_type": "code",
   "execution_count": 3,
   "id": "336e1431-d77d-4f20-9bef-861be5f307a7",
   "metadata": {},
   "outputs": [
    {
     "name": "stdout",
     "output_type": "stream",
     "text": [
      "Processing 3 combinations | Sampling itemset size 3\n"
     ]
    }
   ],
   "source": [
    "arm = AssociationRuleMining(tx_dict, 0.6, 0.7)"
   ]
  },
  {
   "cell_type": "code",
   "execution_count": 6,
   "id": "c2eb36ff-2366-48c0-8b77-b6266c8722ef",
   "metadata": {},
   "outputs": [
    {
     "name": "stdout",
     "output_type": "stream",
     "text": [
      "All frequent itemsets:\n",
      "{a}: support = 0.6\n",
      "{b}: support = 1.0\n",
      "{d}: support = 0.8\n",
      "{a, b}: support = 0.6\n",
      "{b, d}: support = 0.8\n"
     ]
    }
   ],
   "source": [
    "arm.view_all_freq_itemset()"
   ]
  },
  {
   "cell_type": "code",
   "execution_count": 7,
   "id": "9ae3e244-cc37-4ba6-ba17-d69f746826c7",
   "metadata": {},
   "outputs": [
    {
     "name": "stdout",
     "output_type": "stream",
     "text": [
      "Rules of 2-itemsets:\n",
      "{a} -> {b} : support = 0.6, confidence = 1.0\n",
      "{b} -> {d} : support = 0.8, confidence = 0.8\n",
      "{d} -> {b} : support = 0.8, confidence = 1.0\n"
     ]
    }
   ],
   "source": [
    "arm.view_rules_of_k_itemset(2)"
   ]
  },
  {
   "cell_type": "code",
   "execution_count": 8,
   "id": "98526f95-c1a1-42fd-b6b8-c726aa61a3e2",
   "metadata": {},
   "outputs": [
    {
     "name": "stdout",
     "output_type": "stream",
     "text": [
      "<'a'> : ['F']\n",
      "<'b'> : ['C']\n",
      "<'c'> : ['I']\n",
      "<'d'> : ['F']\n",
      "<'a', 'b'> : ['M', 'C']\n",
      "<'a', 'c'> : ['I']\n",
      "<'a', 'd'> : ['I']\n",
      "<'b', 'c'> : ['I']\n",
      "<'b', 'd'> : ['M', 'C']\n",
      "<'c', 'd'> : ['I']\n",
      "<'a', 'b', 'c'> : ['I']\n",
      "<'a', 'b', 'd'> : ['I']\n",
      "<'a', 'c', 'd'> : ['I']\n",
      "<'b', 'c', 'd'> : ['I']\n",
      "<'a', 'b', 'c', 'd'> : ['I']\n",
      "\n",
      "Maximal Frequent Itemset:\n",
      "{a, b}\n",
      "{b, d}\n",
      "\n",
      "Closed Frequent Itemset:\n",
      "{b}\n",
      "{a, b}\n",
      "{b, d}\n",
      "\n",
      "Frequent Itemset but Neither Maximal nor Closed:\n",
      "{a}\n",
      "{d}\n",
      "\n",
      "Infrequent Itemset:\n",
      "{c}\n",
      "{a, c}\n",
      "{a, d}\n",
      "{b, c}\n",
      "{c, d}\n",
      "{a, b, c}\n",
      "{a, b, d}\n",
      "{a, c, d}\n",
      "{b, c, d}\n",
      "{a, b, c, d}\n",
      "\n"
     ]
    }
   ],
   "source": [
    "arm.view_labels_of_all_itemset()"
   ]
  },
  {
   "cell_type": "code",
   "execution_count": null,
   "id": "24d3486e-1015-4815-8f78-0fbb3519e072",
   "metadata": {},
   "outputs": [],
   "source": []
  }
 ],
 "metadata": {
  "kernelspec": {
   "display_name": "CS 4210",
   "language": "python",
   "name": "cs4210"
  },
  "language_info": {
   "codemirror_mode": {
    "name": "ipython",
    "version": 3
   },
   "file_extension": ".py",
   "mimetype": "text/x-python",
   "name": "python",
   "nbconvert_exporter": "python",
   "pygments_lexer": "ipython3",
   "version": "3.7.11"
  }
 },
 "nbformat": 4,
 "nbformat_minor": 5
}
