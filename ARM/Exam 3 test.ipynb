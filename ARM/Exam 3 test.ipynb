{
 "cells": [
  {
   "cell_type": "code",
   "execution_count": 1,
   "id": "9b944db9-3ed2-459d-a461-dd7d51e9866d",
   "metadata": {},
   "outputs": [],
   "source": [
    "from association_rule_mining import AssociationRuleMining"
   ]
  },
  {
   "cell_type": "markdown",
   "id": "5e9aaee2-c1bb-4057-a998-a658668e7a03",
   "metadata": {},
   "source": [
    "# Q10"
   ]
  },
  {
   "cell_type": "code",
   "execution_count": 2,
   "id": "8e48591c-4d1d-4e5d-af55-b16b9bbc5042",
   "metadata": {},
   "outputs": [],
   "source": [
    "tx_dict = {\n",
    "    '1' : ['A', 'D'],\n",
    "    '2' : ['A', 'B', 'C'],\n",
    "    '3' : ['A', 'B', 'D'],\n",
    "    '4' : ['A', 'C'],\n",
    "}"
   ]
  },
  {
   "cell_type": "code",
   "execution_count": 3,
   "id": "c6c6aead-5ae1-4da0-b53a-98e18161435a",
   "metadata": {},
   "outputs": [
    {
     "name": "stdout",
     "output_type": "stream",
     "text": [
      "Processing 9 combinations | Sampling itemset size 32\n"
     ]
    }
   ],
   "source": [
    "arm = AssociationRuleMining(tx_dict, 0.5, 0.5)"
   ]
  },
  {
   "cell_type": "code",
   "execution_count": 4,
   "id": "ae33f93a-af8e-40af-b8ca-2a5ad598efdd",
   "metadata": {},
   "outputs": [
    {
     "data": {
      "text/html": [
       "<div>\n",
       "<style scoped>\n",
       "    .dataframe tbody tr th:only-of-type {\n",
       "        vertical-align: middle;\n",
       "    }\n",
       "\n",
       "    .dataframe tbody tr th {\n",
       "        vertical-align: top;\n",
       "    }\n",
       "\n",
       "    .dataframe thead th {\n",
       "        text-align: right;\n",
       "    }\n",
       "</style>\n",
       "<table border=\"1\" class=\"dataframe\">\n",
       "  <thead>\n",
       "    <tr style=\"text-align: right;\">\n",
       "      <th></th>\n",
       "      <th>support</th>\n",
       "      <th>itemsets</th>\n",
       "    </tr>\n",
       "  </thead>\n",
       "  <tbody>\n",
       "    <tr>\n",
       "      <th>0</th>\n",
       "      <td>1.0</td>\n",
       "      <td>(A)</td>\n",
       "    </tr>\n",
       "    <tr>\n",
       "      <th>1</th>\n",
       "      <td>0.5</td>\n",
       "      <td>(B)</td>\n",
       "    </tr>\n",
       "    <tr>\n",
       "      <th>2</th>\n",
       "      <td>0.5</td>\n",
       "      <td>(C)</td>\n",
       "    </tr>\n",
       "    <tr>\n",
       "      <th>3</th>\n",
       "      <td>0.5</td>\n",
       "      <td>(D)</td>\n",
       "    </tr>\n",
       "    <tr>\n",
       "      <th>4</th>\n",
       "      <td>0.5</td>\n",
       "      <td>(A, B)</td>\n",
       "    </tr>\n",
       "    <tr>\n",
       "      <th>5</th>\n",
       "      <td>0.5</td>\n",
       "      <td>(A, C)</td>\n",
       "    </tr>\n",
       "    <tr>\n",
       "      <th>6</th>\n",
       "      <td>0.5</td>\n",
       "      <td>(A, D)</td>\n",
       "    </tr>\n",
       "  </tbody>\n",
       "</table>\n",
       "</div>"
      ],
      "text/plain": [
       "   support itemsets\n",
       "0      1.0      (A)\n",
       "1      0.5      (B)\n",
       "2      0.5      (C)\n",
       "3      0.5      (D)\n",
       "4      0.5   (A, B)\n",
       "5      0.5   (A, C)\n",
       "6      0.5   (A, D)"
      ]
     },
     "execution_count": 4,
     "metadata": {},
     "output_type": "execute_result"
    }
   ],
   "source": [
    "arm.freq_itemset"
   ]
  },
  {
   "cell_type": "code",
   "execution_count": 5,
   "id": "004d8e72-1664-4bc1-99d6-380f477f9eac",
   "metadata": {},
   "outputs": [
    {
     "name": "stdout",
     "output_type": "stream",
     "text": [
      "<'A'> : ['C']\n",
      "<'B'> : ['F']\n",
      "<'C'> : ['F']\n",
      "<'D'> : ['F']\n",
      "<'A', 'B'> : ['M', 'C']\n",
      "<'A', 'C'> : ['M', 'C']\n",
      "<'A', 'D'> : ['M', 'C']\n",
      "<'B', 'C'> : ['I']\n",
      "<'B', 'D'> : ['I']\n",
      "<'C', 'D'> : ['I']\n",
      "<'A', 'B', 'C'> : ['I']\n",
      "<'A', 'B', 'D'> : ['I']\n",
      "<'A', 'C', 'D'> : ['I']\n",
      "<'B', 'C', 'D'> : ['I']\n",
      "<'A', 'B', 'C', 'D'> : ['I']\n",
      "\n",
      "Maximal Frequent Itemset:\n",
      "{A, B}\n",
      "{A, C}\n",
      "{A, D}\n",
      "\n",
      "Closed Frequent Itemset:\n",
      "{A}\n",
      "{A, B}\n",
      "{A, C}\n",
      "{A, D}\n",
      "\n",
      "Frequent Itemset but Neither Maximal nor Closed:\n",
      "{B}\n",
      "{C}\n",
      "{D}\n",
      "\n",
      "Infrequent Itemset:\n",
      "{B, C}\n",
      "{B, D}\n",
      "{C, D}\n",
      "{A, B, C}\n",
      "{A, B, D}\n",
      "{A, C, D}\n",
      "{B, C, D}\n",
      "{A, B, C, D}\n",
      "\n"
     ]
    }
   ],
   "source": [
    "arm.view_labels_of_all_itemset()"
   ]
  },
  {
   "cell_type": "code",
   "execution_count": 6,
   "id": "729fa42e-8031-4108-911b-d7c184795801",
   "metadata": {},
   "outputs": [
    {
     "data": {
      "text/plain": [
       "[(1.0, <'A'>),\n",
       " (0.5, <'B'>),\n",
       " (0.5, <'C'>),\n",
       " (0.5, <'D'>),\n",
       " (0.5, <'A', 'B'>),\n",
       " (0.5, <'A', 'C'>),\n",
       " (0.5, <'A', 'D'>),\n",
       " (0.25, <'B', 'C'>),\n",
       " (0.25, <'B', 'D'>),\n",
       " (0.0, <'C', 'D'>),\n",
       " (0.25, <'A', 'B', 'C'>),\n",
       " (0.25, <'A', 'B', 'D'>),\n",
       " (0.0, <'A', 'C', 'D'>),\n",
       " (0.0, <'B', 'C', 'D'>),\n",
       " (0.0, <'A', 'B', 'C', 'D'>)]"
      ]
     },
     "execution_count": 6,
     "metadata": {},
     "output_type": "execute_result"
    }
   ],
   "source": [
    "arm.all_itemset"
   ]
  },
  {
   "cell_type": "markdown",
   "id": "58ef520a-5842-43dc-ad47-33db6daaebcc",
   "metadata": {},
   "source": [
    "# Q14"
   ]
  },
  {
   "cell_type": "code",
   "execution_count": 7,
   "id": "be095b5e-7179-4089-9feb-3402f8b25a55",
   "metadata": {},
   "outputs": [],
   "source": [
    "tx_dict = {\n",
    "    '1': ['a', 'c', 'd'],\n",
    "    '2': ['b', 'c'],\n",
    "    '3': ['a', 'b', 'd'],\n",
    "    '4': ['a', 'b'],\n",
    "    '5': ['a', 'b', 'c', 'd'],\n",
    "}"
   ]
  },
  {
   "cell_type": "code",
   "execution_count": 8,
   "id": "45e453c8-ac5b-43b4-9736-d722f0ee73e9",
   "metadata": {},
   "outputs": [
    {
     "name": "stdout",
     "output_type": "stream",
     "text": [
      "Processing 3 combinations | Sampling itemset size 32\n"
     ]
    }
   ],
   "source": [
    "arm = AssociationRuleMining(tx_dict, 0.6, 0.7)"
   ]
  },
  {
   "cell_type": "code",
   "execution_count": 9,
   "id": "50195e9c-2e49-4220-ac13-04de4a9a7390",
   "metadata": {},
   "outputs": [
    {
     "name": "stdout",
     "output_type": "stream",
     "text": [
      "All frequent itemsets:\n",
      "{a}: support = 0.8\n",
      "{b}: support = 0.8\n",
      "{c}: support = 0.6\n",
      "{d}: support = 0.6\n",
      "{a, b}: support = 0.6\n",
      "{a, d}: support = 0.6\n"
     ]
    }
   ],
   "source": [
    "arm.view_all_freq_itemset()"
   ]
  },
  {
   "cell_type": "code",
   "execution_count": 10,
   "id": "a46b1555-5a7d-4750-83fc-afea3b53f76c",
   "metadata": {},
   "outputs": [
    {
     "name": "stdout",
     "output_type": "stream",
     "text": [
      "Rules of 2-itemsets:\n",
      "{a} -> {b} : support = 0.6, confidence = 0.75\n",
      "{b} -> {a} : support = 0.6, confidence = 0.75\n",
      "{a} -> {d} : support = 0.6, confidence = 0.75\n",
      "{d} -> {a} : support = 0.6, confidence = 1.0\n"
     ]
    }
   ],
   "source": [
    "arm.view_rules_of_k_itemset(2)"
   ]
  },
  {
   "cell_type": "code",
   "execution_count": 11,
   "id": "c6ee8af5-5ee0-488c-940f-698d53d6ee00",
   "metadata": {},
   "outputs": [
    {
     "name": "stdout",
     "output_type": "stream",
     "text": [
      "{a, b}, {a, d}\n",
      "X\n",
      "{a, b}, {a, d}\n",
      "\n",
      "Generated Candidate:\n",
      "{a, b, d}\n",
      "\n",
      "After candidate pruning:\n",
      "None of the candidates is survived after pruning.\n"
     ]
    }
   ],
   "source": [
    "arm.view_freq_k_itemset_fkm1_x_fkm1(3)"
   ]
  },
  {
   "cell_type": "code",
   "execution_count": null,
   "id": "9d69837e-fd78-4fb7-9b68-9f074f38a58a",
   "metadata": {},
   "outputs": [],
   "source": []
  },
  {
   "cell_type": "code",
   "execution_count": null,
   "id": "6cbedca3-da0f-4e3a-af80-73fd1b54e9c5",
   "metadata": {},
   "outputs": [],
   "source": []
  }
 ],
 "metadata": {
  "kernelspec": {
   "display_name": "CS 4210",
   "language": "python",
   "name": "cs4210"
  },
  "language_info": {
   "codemirror_mode": {
    "name": "ipython",
    "version": 3
   },
   "file_extension": ".py",
   "mimetype": "text/x-python",
   "name": "python",
   "nbconvert_exporter": "python",
   "pygments_lexer": "ipython3",
   "version": "3.7.11"
  }
 },
 "nbformat": 4,
 "nbformat_minor": 5
}
