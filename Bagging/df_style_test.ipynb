{
 "cells": [
  {
   "cell_type": "code",
   "execution_count": 1,
   "id": "0e56e308-2f29-48e5-8b5c-54fb0794fd03",
   "metadata": {},
   "outputs": [],
   "source": [
    "import pandas as pd"
   ]
  },
  {
   "cell_type": "code",
   "execution_count": 4,
   "id": "6b583b68-6fc0-4caf-9da7-ce2d787c42ca",
   "metadata": {},
   "outputs": [
    {
     "data": {
      "text/html": [
       "<style type=\"text/css\">\n",
       "#T_de832_ th {\n",
       "  text-align: center;\n",
       "}\n",
       "#T_de832_row0_col0, #T_de832_row0_col1, #T_de832_row1_col0, #T_de832_row1_col1 {\n",
       "  text-align: center;\n",
       "}\n",
       "</style>\n",
       "<table id=\"T_de832_\">\n",
       "  <thead>\n",
       "    <tr>\n",
       "      <th class=\"blank level0\" >&nbsp;</th>\n",
       "      <th class=\"col_heading level0 col0\" >text</th>\n",
       "      <th class=\"col_heading level0 col1\" >number</th>\n",
       "    </tr>\n",
       "  </thead>\n",
       "  <tbody>\n",
       "    <tr>\n",
       "      <th id=\"T_de832_level0_row0\" class=\"row_heading level0 row0\" >0</th>\n",
       "      <td id=\"T_de832_row0_col0\" class=\"data row0 col0\" >foo</td>\n",
       "      <td id=\"T_de832_row0_col1\" class=\"data row0 col1\" >1</td>\n",
       "    </tr>\n",
       "    <tr>\n",
       "      <th id=\"T_de832_level0_row1\" class=\"row_heading level0 row1\" >1</th>\n",
       "      <td id=\"T_de832_row1_col0\" class=\"data row1 col0\" >bar</td>\n",
       "      <td id=\"T_de832_row1_col1\" class=\"data row1 col1\" >2</td>\n",
       "    </tr>\n",
       "  </tbody>\n",
       "</table>\n"
      ],
      "text/plain": [
       "<pandas.io.formats.style.Styler at 0x1f84e48f548>"
      ]
     },
     "execution_count": 4,
     "metadata": {},
     "output_type": "execute_result"
    }
   ],
   "source": [
    "df = pd.DataFrame({'text': ['foo', 'bar'],'number': [1, 2]})\n",
    "\n",
    "dfStyler = df.style.set_properties(**{'text-align': 'center'})\n",
    "dfStyler.set_table_styles([dict(selector='th', props=[('text-align', 'center')])])"
   ]
  },
  {
   "cell_type": "code",
   "execution_count": null,
   "id": "9bcad750-f5d3-458d-a8c1-8628e542857b",
   "metadata": {},
   "outputs": [],
   "source": []
  }
 ],
 "metadata": {
  "kernelspec": {
   "display_name": "CS 4210",
   "language": "python",
   "name": "cs4210"
  },
  "language_info": {
   "codemirror_mode": {
    "name": "ipython",
    "version": 3
   },
   "file_extension": ".py",
   "mimetype": "text/x-python",
   "name": "python",
   "nbconvert_exporter": "python",
   "pygments_lexer": "ipython3",
   "version": "3.7.11"
  }
 },
 "nbformat": 4,
 "nbformat_minor": 5
}
